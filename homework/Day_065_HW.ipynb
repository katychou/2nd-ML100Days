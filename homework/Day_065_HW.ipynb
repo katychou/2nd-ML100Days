{
 "cells": [
  {
   "cell_type": "markdown",
   "metadata": {},
   "source": [
    "# 作業\n",
    "* 選擇分類資料集(右下)-螺旋雙臂 - 交錯六群，限定特徵只能使用前兩個，隱藏層 2 層滿 (共 8 * 2 =16 個神經元)，  \n",
    "  遞迴次數只允許跑到500次，但可以自由調整 批次大小、學習速率、啟動函數、正規化選項與參數\n",
    "* 在上述限制下，挑戰看看測試誤差 (Test Loss) 最低能到多少? 請回答你的上述幾項參數與 Test Loss 數"
   ]
  },
  {
   "cell_type": "code",
   "execution_count": null,
   "metadata": {},
   "outputs": [],
   "source": [
    "Experience 1\n",
    "    Test loss 0.257\n",
    "    Training loss 0.267\n",
    "        Batch size: 5\n",
    "        Learning rate: 0.1\n",
    "        Activation: Relu\n",
    "        Regularization/rate: None"
   ]
  },
  {
   "cell_type": "code",
   "execution_count": null,
   "metadata": {},
   "outputs": [],
   "source": [
    "Experience 2\n",
    "    Test loss 0.014\n",
    "    Training loss 0.020\n",
    "        Batch size: 5\n",
    "        Learning rate: 0.1\n",
    "        Activation: Relu\n",
    "        Regularization/rate: L2 / 0.001"
   ]
  },
  {
   "cell_type": "code",
   "execution_count": null,
   "metadata": {},
   "outputs": [],
   "source": [
    "Experience 3\n",
    "    Test loss 0.442\n",
    "    Training loss 0.353\n",
    "        Batch size: 5\n",
    "        Learning rate: 0.1\n",
    "        Activation: Relu\n",
    "        Regularization/rate: L1 / 0.001"
   ]
  },
  {
   "cell_type": "code",
   "execution_count": null,
   "metadata": {
    "collapsed": true
   },
   "outputs": [],
   "source": [
    "三者在Regularization/rate差異,使用L2後Test loss 與Training loss都明確減少"
   ]
  },
  {
   "cell_type": "code",
   "execution_count": null,
   "metadata": {},
   "outputs": [],
   "source": [
    "請教,在課程簡報上寫“L1 / L2 較常使⽤用在非深度學習上，深度學習上效果有限“,不解\n",
    "可否請提供數學證明或相關paper論文等資料,感謝你."
   ]
  },
  {
   "cell_type": "markdown",
   "metadata": {
    "collapsed": true
   },
   "source": []
  }
 ],
 "metadata": {
  "kernelspec": {
   "display_name": "Python 3",
   "language": "python",
   "name": "python3"
  },
  "language_info": {
   "codemirror_mode": {
    "name": "ipython",
    "version": 3
   },
   "file_extension": ".py",
   "mimetype": "text/x-python",
   "name": "python",
   "nbconvert_exporter": "python",
   "pygments_lexer": "ipython3",
   "version": "3.6.8"
  }
 },
 "nbformat": 4,
 "nbformat_minor": 2
}
