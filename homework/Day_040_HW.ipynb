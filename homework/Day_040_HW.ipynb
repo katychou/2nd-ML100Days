{
 "cells": [
  {
   "cell_type": "markdown",
   "metadata": {},
   "source": [
    "## [作業重點]\n",
    "使用 Sklearn 中的 Lasso, Ridge 模型，來訓練各種資料集，務必了解送進去模型訓練的**資料型態**為何，也請了解模型中各項參數的意義。\n",
    "\n",
    "機器學習的模型非常多種，但要訓練的資料多半有固定的格式，確保你了解訓練資料的格式為何，這樣在應用新模型時，就能夠最快的上手開始訓練！"
   ]
  },
  {
   "cell_type": "markdown",
   "metadata": {},
   "source": [
    "## 練習時間\n",
    "試著使用 sklearn datasets 的其他資料集 (boston, ...)，來訓練自己的線性迴歸模型，並加上適當的正則話來觀察訓練情形。"
   ]
  },
  {
   "cell_type": "code",
   "execution_count": 1,
   "metadata": {},
   "outputs": [],
   "source": [
    "import numpy as np\n",
    "import matplotlib.pyplot as plt\n",
    "from sklearn import datasets, linear_model\n",
    "from sklearn.model_selection import train_test_split\n",
    "from sklearn.metrics import mean_squared_error, r2_score"
   ]
  },
  {
   "cell_type": "markdown",
   "metadata": {},
   "source": [
    "## boston"
   ]
  },
  {
   "cell_type": "code",
   "execution_count": 2,
   "metadata": {},
   "outputs": [],
   "source": [
    "# 讀取boston資料集\n",
    "diabetes = datasets.load_boston()\n",
    "\n",
    "# 切分訓練集/測試集\n",
    "x_train, x_test, y_train, y_test = train_test_split(diabetes.data, diabetes.target, test_size=0.2, random_state=4)\n",
    "\n",
    "# 建立一個線性回歸模型\n",
    "linereg = linear_model.LinearRegression()\n",
    "\n",
    "# 將訓練資料丟進去模型訓練\n",
    "linereg.fit(x_train, y_train)\n",
    "\n",
    "# 將測試資料丟進模型得到預測結果\n",
    "y_pred = linereg.predict(x_test)"
   ]
  },
  {
   "cell_type": "code",
   "execution_count": 3,
   "metadata": {},
   "outputs": [
    {
     "name": "stdout",
     "output_type": "stream",
     "text": [
      "[-1.15966452e-01  4.71249231e-02  8.25980146e-03  3.23404531e+00\n",
      " -1.66865890e+01  3.88410651e+00 -1.08974442e-02 -1.54129540e+00\n",
      "  2.93208309e-01 -1.34059383e-02 -9.06296429e-01  8.80823439e-03\n",
      " -4.57723846e-01]\n"
     ]
    }
   ],
   "source": [
    "print(linereg.coef_)"
   ]
  },
  {
   "cell_type": "code",
   "execution_count": 4,
   "metadata": {},
   "outputs": [
    {
     "name": "stdout",
     "output_type": "stream",
     "text": [
      "Mean squared error: 25.42\n",
      "r2_score: 0.7263451459702527\n"
     ]
    }
   ],
   "source": [
    "# 預測值與實際值的差距，使用 MSE\n",
    "print(\"Mean squared error: %.2f\"\n",
    "      % mean_squared_error(y_test, y_pred))\n",
    "\n",
    "print(\"r2_score:\",r2_score(y_test,y_pred))"
   ]
  },
  {
   "cell_type": "code",
   "execution_count": 5,
   "metadata": {},
   "outputs": [],
   "source": [
    "#boston LASSO - L1"
   ]
  },
  {
   "cell_type": "code",
   "execution_count": 6,
   "metadata": {},
   "outputs": [],
   "source": [
    "# 建立一個線性回歸模型\n",
    "lasso = linear_model.Lasso(alpha=1.0)\n",
    "\n",
    "# 將訓練資料丟進去模型訓練\n",
    "lasso.fit(x_train, y_train)\n",
    "\n",
    "# 將測試資料丟進模型得到預測結果\n",
    "y_pred = lasso.predict(x_test)"
   ]
  },
  {
   "cell_type": "code",
   "execution_count": 7,
   "metadata": {},
   "outputs": [
    {
     "name": "stdout",
     "output_type": "stream",
     "text": [
      "[-1.15966452e-01  4.71249231e-02  8.25980146e-03  3.23404531e+00\n",
      " -1.66865890e+01  3.88410651e+00 -1.08974442e-02 -1.54129540e+00\n",
      "  2.93208309e-01 -1.34059383e-02 -9.06296429e-01  8.80823439e-03\n",
      " -4.57723846e-01]\n"
     ]
    }
   ],
   "source": [
    "print(linereg.coef_)"
   ]
  },
  {
   "cell_type": "code",
   "execution_count": 8,
   "metadata": {},
   "outputs": [
    {
     "name": "stdout",
     "output_type": "stream",
     "text": [
      "Mean squared error: 28.95\n",
      "r2_score: 0.6883329337343633\n"
     ]
    }
   ],
   "source": [
    "# 預測值與實際值的差距，使用 MSE\n",
    "print(\"Mean squared error: %.2f\"\n",
    "      % mean_squared_error(y_test, y_pred))\n",
    "\n",
    "print(\"r2_score:\",r2_score(y_test,y_pred))"
   ]
  },
  {
   "cell_type": "code",
   "execution_count": 9,
   "metadata": {},
   "outputs": [],
   "source": [
    "#boston Ridge - L2"
   ]
  },
  {
   "cell_type": "code",
   "execution_count": 10,
   "metadata": {},
   "outputs": [],
   "source": [
    "# 建立一個線性回歸模型\n",
    "ridge = linear_model.Ridge(alpha=1.0)\n",
    "\n",
    "# 將訓練資料丟進去模型訓練\n",
    "ridge.fit(x_train, y_train)\n",
    "\n",
    "# 將測試資料丟進模型得到預測結果\n",
    "y_pred = ridge.predict(x_test)"
   ]
  },
  {
   "cell_type": "code",
   "execution_count": 11,
   "metadata": {},
   "outputs": [
    {
     "name": "stdout",
     "output_type": "stream",
     "text": [
      "[-1.12499445e-01  4.79562332e-02 -2.40438147e-02  2.96199458e+00\n",
      " -9.33966118e+00  3.93079015e+00 -1.73821202e-02 -1.43347691e+00\n",
      "  2.75239392e-01 -1.38920708e-02 -8.31116943e-01  9.15637729e-03\n",
      " -4.66460539e-01]\n"
     ]
    }
   ],
   "source": [
    "# 印出 Ridge 的參數，可以很明顯看到比起 Linear Regression，參數的數值都明顯小了許多\n",
    "print(ridge.coef_)"
   ]
  },
  {
   "cell_type": "code",
   "execution_count": 12,
   "metadata": {},
   "outputs": [
    {
     "name": "stdout",
     "output_type": "stream",
     "text": [
      "Mean squared error: 25.74\n",
      "r2_score: 0.7228560765383049\n"
     ]
    }
   ],
   "source": [
    "# 預測值與實際值的差距，使用 MSE\n",
    "print(\"Mean squared error: %.2f\"\n",
    "      % mean_squared_error(y_test, y_pred))\n",
    "\n",
    "print(\"r2_score:\",r2_score(y_test,y_pred))"
   ]
  },
  {
   "cell_type": "code",
   "execution_count": null,
   "metadata": {},
   "outputs": [],
   "source": []
  },
  {
   "cell_type": "code",
   "execution_count": 24,
   "metadata": {},
   "outputs": [
    {
     "name": "stdout",
     "output_type": "stream",
     "text": [
      "Mean Squared Error= 25.41958712682169\n",
      "r2_score: 0.7263451459702527\n",
      "Lasso Regression with alpha= 1.0\n",
      "lasso Mean Squared Error= 28.95051203673903\n",
      "lasso r2_score: 0.6883329337343633\n",
      "Ridge Regression with alpha= 1.0\n",
      "Ridge Mean Squared Error= 25.743684080012542\n",
      "Ridge r2_score: 0.7228560765383049\n",
      "============================================================\n",
      "Mean Squared Error= 25.41958712682169\n",
      "r2_score: 0.7263451459702527\n",
      "Lasso Regression with alpha= 0.7\n",
      "lasso Mean Squared Error= 27.589858015791183\n",
      "lasso r2_score: 0.7029810700565533\n",
      "Ridge Regression with alpha= 0.7\n",
      "Ridge Mean Squared Error= 25.743684080012542\n",
      "Ridge r2_score: 0.7228560765383049\n",
      "============================================================\n",
      "Mean Squared Error= 25.41958712682169\n",
      "r2_score: 0.7263451459702527\n",
      "Lasso Regression with alpha= 0.4\n",
      "lasso Mean Squared Error= 26.759412785954982\n",
      "lasso r2_score: 0.711921237613828\n",
      "Ridge Regression with alpha= 0.4\n",
      "Ridge Mean Squared Error= 25.743684080012542\n",
      "Ridge r2_score: 0.7228560765383049\n",
      "============================================================\n",
      "Mean Squared Error= 25.41958712682169\n",
      "r2_score: 0.7263451459702527\n",
      "Lasso Regression with alpha= 0.05\n",
      "lasso Mean Squared Error= 26.448135276983113\n",
      "lasso r2_score: 0.7152722991733824\n",
      "Ridge Regression with alpha= 0.05\n",
      "Ridge Mean Squared Error= 25.743684080012542\n",
      "Ridge r2_score: 0.7228560765383049\n",
      "============================================================\n"
     ]
    }
   ],
   "source": [
    "for alpha in (1.0,0.7,0.4,0.05):\n",
    "    linereg = linear_model.LinearRegression()\n",
    "    linereg.fit(x_train, y_train)\n",
    "    y_pred = linereg.predict(x_test)\n",
    "    #print(linereg.coef_)\n",
    "    print('Mean Squared Error=',mean_squared_error(y_test, y_pred))\n",
    "    print(\"r2_score:\",r2_score(y_test,y_pred))\n",
    "    \n",
    "    #lasso-L1\n",
    "    print('Lasso Regression with alpha=', alpha)\n",
    "    lasso = linear_model.Lasso(alpha=alpha)\n",
    "    lasso.fit(x_train, y_train)\n",
    "    y_pred = lasso.predict(x_test)\n",
    "    #print(linereg.coef_)\n",
    "    print('lasso Mean Squared Error=',mean_squared_error(y_test, y_pred))\n",
    "    print(\"lasso r2_score:\",r2_score(y_test,y_pred))\n",
    "    \n",
    "    #Ridge-L2\n",
    "    print('Ridge Regression with alpha=', alpha)\n",
    "    ridge = linear_model.Ridge(alpha=1.0)\n",
    "    ridge.fit(x_train, y_train)\n",
    "    y_pred = ridge.predict(x_test)\n",
    "    #print(linereg.coef_)\n",
    "    print('Ridge Mean Squared Error=',mean_squared_error(y_test, y_pred))\n",
    "    print(\"Ridge r2_score:\",r2_score(y_test,y_pred))\n",
    "    \n",
    "    '''\n",
    "    print('Lasso Regression with alpha=', alpha)\n",
    "    print('coefcoefficient:')\n",
    "    print(lasso.coef_)\n",
    "    print('Mean Squared Error=', mse)\n",
    "    print(\"r2_score:\",r2_score(y_test,y_pred))\n",
    "    '''\n",
    "    print('============================================================')"
   ]
  },
  {
   "cell_type": "code",
   "execution_count": null,
   "metadata": {},
   "outputs": [],
   "source": []
  }
 ],
 "metadata": {
  "kernelspec": {
   "display_name": "Python 3",
   "language": "python",
   "name": "python3"
  },
  "language_info": {
   "codemirror_mode": {
    "name": "ipython",
    "version": 3
   },
   "file_extension": ".py",
   "mimetype": "text/x-python",
   "name": "python",
   "nbconvert_exporter": "python",
   "pygments_lexer": "ipython3",
   "version": "3.6.8"
  }
 },
 "nbformat": 4,
 "nbformat_minor": 2
}
