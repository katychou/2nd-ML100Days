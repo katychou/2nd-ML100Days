{
 "cells": [
  {
   "cell_type": "markdown",
   "metadata": {
    "colab_type": "text",
    "id": "cj4tE8e8iUtO"
   },
   "source": [
    "#   \n",
    "\n",
    "# 作業目標:\n",
    "\n",
    "    1. 藉由固定的 dataset, 來驗證不同loss function\n",
    "    2. Dataset 的特性跟我們選用的loss function 對accrancy 的影響\n",
    "    \n",
    "    \n",
    "# 作業重點: \n",
    "    請分別選用 \"MSE\", \"binary _crossentropy\"\n",
    "    查看Train/test accurancy and loss rate\n",
    "    "
   ]
  },
  {
   "cell_type": "markdown",
   "metadata": {
    "colab_type": "text",
    "id": "R51J4KyyiUsL"
   },
   "source": [
    "# 導入必要的函數"
   ]
  },
  {
   "cell_type": "code",
   "execution_count": 1,
   "metadata": {
    "colab": {
     "base_uri": "https://localhost:8080/",
     "height": 34
    },
    "colab_type": "code",
    "executionInfo": {
     "elapsed": 2709,
     "status": "ok",
     "timestamp": 1569398176124,
     "user": {
      "displayName": "katy chou",
      "photoUrl": "",
      "userId": "16630733742086264732"
     },
     "user_tz": -480
    },
    "id": "Qd68OQjciUsM",
    "outputId": "a046f8bd-474d-4059-872e-ab65f5ecd81f"
   },
   "outputs": [
    {
     "name": "stderr",
     "output_type": "stream",
     "text": [
      "Using TensorFlow backend.\n"
     ]
    }
   ],
   "source": [
    "from keras.datasets import cifar10\n",
    "import numpy as np\n",
    "np.random.seed(10)"
   ]
  },
  {
   "cell_type": "markdown",
   "metadata": {
    "colab_type": "text",
    "id": "GxKuzQLQiUsP"
   },
   "source": [
    "# 資料準備"
   ]
  },
  {
   "cell_type": "code",
   "execution_count": 0,
   "metadata": {
    "colab": {},
    "colab_type": "code",
    "id": "MIbFZdTCiUsQ"
   },
   "outputs": [],
   "source": [
    "#取得Keras Dataset\n",
    "(x_img_train,y_label_train),(x_img_test,y_label_test)=cifar10.load_data()"
   ]
  },
  {
   "cell_type": "code",
   "execution_count": 3,
   "metadata": {
    "colab": {
     "base_uri": "https://localhost:8080/",
     "height": 50
    },
    "colab_type": "code",
    "executionInfo": {
     "elapsed": 1999,
     "status": "ok",
     "timestamp": 1569398176126,
     "user": {
      "displayName": "katy chou",
      "photoUrl": "",
      "userId": "16630733742086264732"
     },
     "user_tz": -480
    },
    "id": "J8CJVjNOiUsS",
    "outputId": "466a3375-e47b-4d7f-ac3a-d07295d1a691"
   },
   "outputs": [
    {
     "name": "stdout",
     "output_type": "stream",
     "text": [
      "train data: images: (50000, 32, 32, 3)  labels: (50000, 1)\n",
      "test  data: images: (10000, 32, 32, 3)  labels: (10000, 1)\n"
     ]
    }
   ],
   "source": [
    "#確認 CIFAR10 Dataset 資料維度\n",
    "print(\"train data:\",'images:',x_img_train.shape,\n",
    "      \" labels:\",y_label_train.shape) \n",
    "print(\"test  data:\",'images:',x_img_test.shape ,\n",
    "      \" labels:\",y_label_test.shape) "
   ]
  },
  {
   "cell_type": "code",
   "execution_count": 0,
   "metadata": {
    "colab": {},
    "colab_type": "code",
    "id": "V3P6P4DXiUsV"
   },
   "outputs": [],
   "source": [
    "#資料正規化\n",
    "x_img_train_normalize = x_img_train.astype('float32') / 255.0\n",
    "x_img_test_normalize = x_img_test.astype('float32') / 255.0"
   ]
  },
  {
   "cell_type": "code",
   "execution_count": 5,
   "metadata": {
    "colab": {
     "base_uri": "https://localhost:8080/",
     "height": 34
    },
    "colab_type": "code",
    "executionInfo": {
     "elapsed": 1115,
     "status": "ok",
     "timestamp": 1569398176128,
     "user": {
      "displayName": "katy chou",
      "photoUrl": "",
      "userId": "16630733742086264732"
     },
     "user_tz": -480
    },
    "id": "vsDyjKYliUsX",
    "outputId": "9bfa67a1-5003-4ae8-e758-6318285725c1"
   },
   "outputs": [
    {
     "data": {
      "text/plain": [
       "(10000, 10)"
      ]
     },
     "execution_count": 5,
     "metadata": {
      "tags": []
     },
     "output_type": "execute_result"
    }
   ],
   "source": [
    "#針對Label 做 ONE HOT ENCODE\n",
    "from keras.utils import np_utils\n",
    "y_label_train_OneHot = np_utils.to_categorical(y_label_train)\n",
    "y_label_test_OneHot = np_utils.to_categorical(y_label_test)\n",
    "y_label_test_OneHot.shape"
   ]
  },
  {
   "cell_type": "markdown",
   "metadata": {
    "colab_type": "text",
    "id": "RutW2OtgiUsZ"
   },
   "source": [
    "# 建立模型"
   ]
  },
  {
   "cell_type": "code",
   "execution_count": 0,
   "metadata": {
    "colab": {},
    "colab_type": "code",
    "id": "aHz592aXiUsa"
   },
   "outputs": [],
   "source": [
    "from keras.models import Sequential\n",
    "from keras.layers import Dense, Dropout, Activation, Flatten\n",
    "from keras.layers import Conv2D, MaxPooling2D, ZeroPadding2D"
   ]
  },
  {
   "cell_type": "code",
   "execution_count": 7,
   "metadata": {
    "colab": {
     "base_uri": "https://localhost:8080/",
     "height": 70
    },
    "colab_type": "code",
    "executionInfo": {
     "elapsed": 1903,
     "status": "ok",
     "timestamp": 1569398177481,
     "user": {
      "displayName": "katy chou",
      "photoUrl": "",
      "userId": "16630733742086264732"
     },
     "user_tz": -480
    },
    "id": "hslqrIp0iUse",
    "outputId": "78dad1b2-5284-42e8-d005-1e2fb9da3475"
   },
   "outputs": [
    {
     "name": "stdout",
     "output_type": "stream",
     "text": [
      "WARNING:tensorflow:From /usr/local/lib/python3.6/dist-packages/keras/backend/tensorflow_backend.py:66: The name tf.get_default_graph is deprecated. Please use tf.compat.v1.get_default_graph instead.\n",
      "\n"
     ]
    }
   ],
   "source": [
    "model1 = Sequential()\n",
    "model2 = Sequential()\n",
    "model3 = Sequential()\n",
    "model4 = Sequential()\n",
    "model5 = Sequential()\n",
    "model6 = Sequential()\n"
   ]
  },
  {
   "cell_type": "code",
   "execution_count": 0,
   "metadata": {
    "colab": {},
    "colab_type": "code",
    "id": "Hqe35hs2iUsi"
   },
   "outputs": [],
   "source": [
    "#卷積層1"
   ]
  },
  {
   "cell_type": "code",
   "execution_count": 9,
   "metadata": {
    "colab": {
     "base_uri": "https://localhost:8080/",
     "height": 742
    },
    "colab_type": "code",
    "executionInfo": {
     "elapsed": 1399,
     "status": "ok",
     "timestamp": 1569398177484,
     "user": {
      "displayName": "katy chou",
      "photoUrl": "",
      "userId": "16630733742086264732"
     },
     "user_tz": -480
    },
    "id": "ED7dqe1YiUsm",
    "outputId": "32850e3f-7e05-4263-f951-d128d9974b19"
   },
   "outputs": [
    {
     "name": "stdout",
     "output_type": "stream",
     "text": [
      "WARNING:tensorflow:From /usr/local/lib/python3.6/dist-packages/keras/backend/tensorflow_backend.py:541: The name tf.placeholder is deprecated. Please use tf.compat.v1.placeholder instead.\n",
      "\n",
      "WARNING:tensorflow:From /usr/local/lib/python3.6/dist-packages/keras/backend/tensorflow_backend.py:4432: The name tf.random_uniform is deprecated. Please use tf.random.uniform instead.\n",
      "\n",
      "WARNING:tensorflow:From /usr/local/lib/python3.6/dist-packages/keras/backend/tensorflow_backend.py:148: The name tf.placeholder_with_default is deprecated. Please use tf.compat.v1.placeholder_with_default instead.\n",
      "\n",
      "WARNING:tensorflow:From /usr/local/lib/python3.6/dist-packages/keras/backend/tensorflow_backend.py:3733: calling dropout (from tensorflow.python.ops.nn_ops) with keep_prob is deprecated and will be removed in a future version.\n",
      "Instructions for updating:\n",
      "Please use `rate` instead of `keep_prob`. Rate should be set to `rate = 1 - keep_prob`.\n",
      "WARNING:tensorflow:From /usr/local/lib/python3.6/dist-packages/keras/backend/tensorflow_backend.py:4267: The name tf.nn.max_pool is deprecated. Please use tf.nn.max_pool2d instead.\n",
      "\n",
      "Model: \"sequential_1\"\n",
      "_________________________________________________________________\n",
      "Layer (type)                 Output Shape              Param #   \n",
      "=================================================================\n",
      "conv2d_1 (Conv2D)            (None, 32, 32, 32)        896       \n",
      "_________________________________________________________________\n",
      "dropout_1 (Dropout)          (None, 32, 32, 32)        0         \n",
      "_________________________________________________________________\n",
      "max_pooling2d_1 (MaxPooling2 (None, 16, 16, 32)        0         \n",
      "_________________________________________________________________\n",
      "conv2d_2 (Conv2D)            (None, 16, 16, 64)        18496     \n",
      "_________________________________________________________________\n",
      "dropout_2 (Dropout)          (None, 16, 16, 64)        0         \n",
      "_________________________________________________________________\n",
      "max_pooling2d_2 (MaxPooling2 (None, 8, 8, 64)          0         \n",
      "_________________________________________________________________\n",
      "flatten_1 (Flatten)          (None, 4096)              0         \n",
      "_________________________________________________________________\n",
      "dropout_3 (Dropout)          (None, 4096)              0         \n",
      "_________________________________________________________________\n",
      "dense_1 (Dense)              (None, 1024)              4195328   \n",
      "_________________________________________________________________\n",
      "dropout_4 (Dropout)          (None, 1024)              0         \n",
      "_________________________________________________________________\n",
      "dense_2 (Dense)              (None, 10)                10250     \n",
      "=================================================================\n",
      "Total params: 4,224,970\n",
      "Trainable params: 4,224,970\n",
      "Non-trainable params: 0\n",
      "_________________________________________________________________\n",
      "None\n"
     ]
    }
   ],
   "source": [
    "model1.add(Conv2D(filters=32,kernel_size=(3,3),\n",
    "                 input_shape=(32, 32,3), \n",
    "                 activation='relu', \n",
    "                 padding='same'))\n",
    "model1.add(Dropout(rate=0.25))\n",
    "model1.add(MaxPooling2D(pool_size=(2, 2)))\n",
    "model1.add(Conv2D(filters=64, kernel_size=(3, 3), \n",
    "                 activation='relu', padding='same'))\n",
    "model1.add(Dropout(0.25))\n",
    "model1.add(MaxPooling2D(pool_size=(2, 2)))\n",
    "model1.add(Flatten())\n",
    "model1.add(Dropout(rate=0.25))\n",
    "model1.add(Dense(1024, activation='relu'))\n",
    "model1.add(Dropout(rate=0.25))\n",
    "model1.add(Dense(10, activation='softmax'))\n",
    "#檢查model 的STACK\n",
    "print(model1.summary())\n"
   ]
  },
  {
   "cell_type": "code",
   "execution_count": 10,
   "metadata": {
    "colab": {
     "base_uri": "https://localhost:8080/",
     "height": 538
    },
    "colab_type": "code",
    "executionInfo": {
     "elapsed": 2137,
     "status": "ok",
     "timestamp": 1569398178408,
     "user": {
      "displayName": "katy chou",
      "photoUrl": "",
      "userId": "16630733742086264732"
     },
     "user_tz": -480
    },
    "id": "XEwCiwD5Qaed",
    "outputId": "e75ab5ad-9c5d-4015-ab7b-5048fe81831f"
   },
   "outputs": [
    {
     "name": "stdout",
     "output_type": "stream",
     "text": [
      "Model: \"sequential_2\"\n",
      "_________________________________________________________________\n",
      "Layer (type)                 Output Shape              Param #   \n",
      "=================================================================\n",
      "conv2d_3 (Conv2D)            (None, 32, 32, 32)        896       \n",
      "_________________________________________________________________\n",
      "dropout_5 (Dropout)          (None, 32, 32, 32)        0         \n",
      "_________________________________________________________________\n",
      "max_pooling2d_3 (MaxPooling2 (None, 16, 16, 32)        0         \n",
      "_________________________________________________________________\n",
      "conv2d_4 (Conv2D)            (None, 16, 16, 64)        18496     \n",
      "_________________________________________________________________\n",
      "dropout_6 (Dropout)          (None, 16, 16, 64)        0         \n",
      "_________________________________________________________________\n",
      "max_pooling2d_4 (MaxPooling2 (None, 8, 8, 64)          0         \n",
      "_________________________________________________________________\n",
      "flatten_2 (Flatten)          (None, 4096)              0         \n",
      "_________________________________________________________________\n",
      "dropout_7 (Dropout)          (None, 4096)              0         \n",
      "_________________________________________________________________\n",
      "dense_3 (Dense)              (None, 1024)              4195328   \n",
      "_________________________________________________________________\n",
      "dropout_8 (Dropout)          (None, 1024)              0         \n",
      "_________________________________________________________________\n",
      "dense_4 (Dense)              (None, 10)                10250     \n",
      "=================================================================\n",
      "Total params: 4,224,970\n",
      "Trainable params: 4,224,970\n",
      "Non-trainable params: 0\n",
      "_________________________________________________________________\n",
      "None\n"
     ]
    }
   ],
   "source": [
    "model2.add(Conv2D(filters=32,kernel_size=(3,3),\n",
    "                 input_shape=(32, 32,3), \n",
    "                 activation='relu', \n",
    "                 padding='same'))\n",
    "model2.add(Dropout(rate=0.25))\n",
    "model2.add(MaxPooling2D(pool_size=(2, 2)))\n",
    "model2.add(Conv2D(filters=64, kernel_size=(3, 3), \n",
    "                 activation='relu', padding='same'))\n",
    "model2.add(Dropout(0.25))\n",
    "model2.add(MaxPooling2D(pool_size=(2, 2)))\n",
    "model2.add(Flatten())\n",
    "model2.add(Dropout(rate=0.25))\n",
    "model2.add(Dense(1024, activation='relu'))\n",
    "model2.add(Dropout(rate=0.25))\n",
    "model2.add(Dense(10, activation='softmax'))\n",
    "#檢查model 的STACK\n",
    "print(model2.summary())"
   ]
  },
  {
   "cell_type": "code",
   "execution_count": 11,
   "metadata": {
    "colab": {
     "base_uri": "https://localhost:8080/",
     "height": 538
    },
    "colab_type": "code",
    "executionInfo": {
     "elapsed": 1936,
     "status": "ok",
     "timestamp": 1569398178410,
     "user": {
      "displayName": "katy chou",
      "photoUrl": "",
      "userId": "16630733742086264732"
     },
     "user_tz": -480
    },
    "id": "KP3HOjwjRZSa",
    "outputId": "6f730b26-5fb9-490c-b555-5afd9557ac2e"
   },
   "outputs": [
    {
     "name": "stdout",
     "output_type": "stream",
     "text": [
      "Model: \"sequential_3\"\n",
      "_________________________________________________________________\n",
      "Layer (type)                 Output Shape              Param #   \n",
      "=================================================================\n",
      "conv2d_5 (Conv2D)            (None, 32, 32, 32)        896       \n",
      "_________________________________________________________________\n",
      "dropout_9 (Dropout)          (None, 32, 32, 32)        0         \n",
      "_________________________________________________________________\n",
      "max_pooling2d_5 (MaxPooling2 (None, 16, 16, 32)        0         \n",
      "_________________________________________________________________\n",
      "conv2d_6 (Conv2D)            (None, 16, 16, 64)        18496     \n",
      "_________________________________________________________________\n",
      "dropout_10 (Dropout)         (None, 16, 16, 64)        0         \n",
      "_________________________________________________________________\n",
      "max_pooling2d_6 (MaxPooling2 (None, 8, 8, 64)          0         \n",
      "_________________________________________________________________\n",
      "flatten_3 (Flatten)          (None, 4096)              0         \n",
      "_________________________________________________________________\n",
      "dropout_11 (Dropout)         (None, 4096)              0         \n",
      "_________________________________________________________________\n",
      "dense_5 (Dense)              (None, 1024)              4195328   \n",
      "_________________________________________________________________\n",
      "dropout_12 (Dropout)         (None, 1024)              0         \n",
      "_________________________________________________________________\n",
      "dense_6 (Dense)              (None, 10)                10250     \n",
      "=================================================================\n",
      "Total params: 4,224,970\n",
      "Trainable params: 4,224,970\n",
      "Non-trainable params: 0\n",
      "_________________________________________________________________\n",
      "None\n"
     ]
    }
   ],
   "source": [
    "model3.add(Conv2D(filters=32,kernel_size=(3,3),\n",
    "                 input_shape=(32, 32,3), \n",
    "                 activation='relu', \n",
    "                 padding='same'))\n",
    "model3.add(Dropout(rate=0.25))\n",
    "model3.add(MaxPooling2D(pool_size=(2, 2)))\n",
    "model3.add(Conv2D(filters=64, kernel_size=(3, 3), \n",
    "                 activation='relu', padding='same'))\n",
    "model3.add(Dropout(0.25))\n",
    "model3.add(MaxPooling2D(pool_size=(2, 2)))\n",
    "model3.add(Flatten())\n",
    "model3.add(Dropout(rate=0.25))\n",
    "model3.add(Dense(1024, activation='relu'))\n",
    "model3.add(Dropout(rate=0.25))\n",
    "model3.add(Dense(10, activation='softmax'))\n",
    "#檢查model 的STACK\n",
    "print(model3.summary())"
   ]
  },
  {
   "cell_type": "code",
   "execution_count": 0,
   "metadata": {
    "colab": {},
    "colab_type": "code",
    "id": "0ocCJ9UTVLmw"
   },
   "outputs": [],
   "source": [
    "model4 = Sequential()"
   ]
  },
  {
   "cell_type": "code",
   "execution_count": 13,
   "metadata": {
    "colab": {
     "base_uri": "https://localhost:8080/",
     "height": 538
    },
    "colab_type": "code",
    "executionInfo": {
     "elapsed": 1877,
     "status": "ok",
     "timestamp": 1569398178951,
     "user": {
      "displayName": "katy chou",
      "photoUrl": "",
      "userId": "16630733742086264732"
     },
     "user_tz": -480
    },
    "id": "avSHsZZ5RZYE",
    "outputId": "58e9eeed-ebb2-4e10-eda0-ce401334aa97"
   },
   "outputs": [
    {
     "name": "stdout",
     "output_type": "stream",
     "text": [
      "Model: \"sequential_7\"\n",
      "_________________________________________________________________\n",
      "Layer (type)                 Output Shape              Param #   \n",
      "=================================================================\n",
      "conv2d_7 (Conv2D)            (None, 32, 32, 32)        896       \n",
      "_________________________________________________________________\n",
      "dropout_13 (Dropout)         (None, 32, 32, 32)        0         \n",
      "_________________________________________________________________\n",
      "max_pooling2d_7 (MaxPooling2 (None, 16, 16, 32)        0         \n",
      "_________________________________________________________________\n",
      "conv2d_8 (Conv2D)            (None, 16, 16, 64)        18496     \n",
      "_________________________________________________________________\n",
      "dropout_14 (Dropout)         (None, 16, 16, 64)        0         \n",
      "_________________________________________________________________\n",
      "max_pooling2d_8 (MaxPooling2 (None, 8, 8, 64)          0         \n",
      "_________________________________________________________________\n",
      "flatten_4 (Flatten)          (None, 4096)              0         \n",
      "_________________________________________________________________\n",
      "dropout_15 (Dropout)         (None, 4096)              0         \n",
      "_________________________________________________________________\n",
      "dense_7 (Dense)              (None, 1024)              4195328   \n",
      "_________________________________________________________________\n",
      "dropout_16 (Dropout)         (None, 1024)              0         \n",
      "_________________________________________________________________\n",
      "dense_8 (Dense)              (None, 10)                10250     \n",
      "=================================================================\n",
      "Total params: 4,224,970\n",
      "Trainable params: 4,224,970\n",
      "Non-trainable params: 0\n",
      "_________________________________________________________________\n",
      "None\n"
     ]
    }
   ],
   "source": [
    "model4.add(Conv2D(filters=32,kernel_size=(3,3),\n",
    "                 input_shape=(32, 32,3), \n",
    "                 activation='relu', \n",
    "                 padding='same'))\n",
    "model4.add(Dropout(rate=0.25))\n",
    "model4.add(MaxPooling2D(pool_size=(2, 2)))\n",
    "model4.add(Conv2D(filters=64, kernel_size=(3, 3), \n",
    "                 activation='relu', padding='same'))\n",
    "model4.add(Dropout(0.25))\n",
    "model4.add(MaxPooling2D(pool_size=(2, 2)))\n",
    "model4.add(Flatten())\n",
    "model4.add(Dropout(rate=0.25))\n",
    "model4.add(Dense(1024, activation='relu'))\n",
    "model4.add(Dropout(rate=0.25))\n",
    "model4.add(Dense(10, activation='softmax'))\n",
    "#檢查model 的STACK\n",
    "print(model4.summary())"
   ]
  },
  {
   "cell_type": "code",
   "execution_count": 0,
   "metadata": {
    "colab": {},
    "colab_type": "code",
    "id": "ZxzRIjR0iUtH"
   },
   "outputs": [],
   "source": []
  },
  {
   "cell_type": "code",
   "execution_count": 14,
   "metadata": {
    "colab": {
     "base_uri": "https://localhost:8080/",
     "height": 538
    },
    "colab_type": "code",
    "executionInfo": {
     "elapsed": 1162,
     "status": "ok",
     "timestamp": 1569398178953,
     "user": {
      "displayName": "katy chou",
      "photoUrl": "",
      "userId": "16630733742086264732"
     },
     "user_tz": -480
    },
    "id": "FWYEiqgYSKqn",
    "outputId": "be71499d-f6ae-49a6-c85f-7a3f417ca71a"
   },
   "outputs": [
    {
     "name": "stdout",
     "output_type": "stream",
     "text": [
      "Model: \"sequential_8\"\n",
      "_________________________________________________________________\n",
      "Layer (type)                 Output Shape              Param #   \n",
      "=================================================================\n",
      "conv2d_9 (Conv2D)            (None, 32, 32, 32)        896       \n",
      "_________________________________________________________________\n",
      "dropout_17 (Dropout)         (None, 32, 32, 32)        0         \n",
      "_________________________________________________________________\n",
      "max_pooling2d_9 (MaxPooling2 (None, 16, 16, 32)        0         \n",
      "_________________________________________________________________\n",
      "conv2d_10 (Conv2D)           (None, 16, 16, 64)        18496     \n",
      "_________________________________________________________________\n",
      "dropout_18 (Dropout)         (None, 16, 16, 64)        0         \n",
      "_________________________________________________________________\n",
      "max_pooling2d_10 (MaxPooling (None, 8, 8, 64)          0         \n",
      "_________________________________________________________________\n",
      "flatten_5 (Flatten)          (None, 4096)              0         \n",
      "_________________________________________________________________\n",
      "dropout_19 (Dropout)         (None, 4096)              0         \n",
      "_________________________________________________________________\n",
      "dense_9 (Dense)              (None, 1024)              4195328   \n",
      "_________________________________________________________________\n",
      "dropout_20 (Dropout)         (None, 1024)              0         \n",
      "_________________________________________________________________\n",
      "dense_10 (Dense)             (None, 10)                10250     \n",
      "=================================================================\n",
      "Total params: 4,224,970\n",
      "Trainable params: 4,224,970\n",
      "Non-trainable params: 0\n",
      "_________________________________________________________________\n",
      "None\n"
     ]
    }
   ],
   "source": [
    "model5 = Sequential()\n",
    "model5.add(Conv2D(filters=32,kernel_size=(3,3),\n",
    "                 input_shape=(32, 32,3), \n",
    "                 activation='relu', \n",
    "                 padding='same'))\n",
    "model5.add(Dropout(rate=0.25))\n",
    "model5.add(MaxPooling2D(pool_size=(2, 2)))\n",
    "model5.add(Conv2D(filters=64, kernel_size=(3, 3), \n",
    "                 activation='relu', padding='same'))\n",
    "model5.add(Dropout(0.25))\n",
    "model5.add(MaxPooling2D(pool_size=(2, 2)))\n",
    "model5.add(Flatten())\n",
    "model5.add(Dropout(rate=0.25))\n",
    "model5.add(Dense(1024, activation='relu'))\n",
    "model5.add(Dropout(rate=0.25))\n",
    "model5.add(Dense(10, activation='softmax'))\n",
    "#檢查model 的STACK\n",
    "print(model5.summary())"
   ]
  },
  {
   "cell_type": "code",
   "execution_count": 15,
   "metadata": {
    "colab": {
     "base_uri": "https://localhost:8080/",
     "height": 538
    },
    "colab_type": "code",
    "executionInfo": {
     "elapsed": 1691,
     "status": "ok",
     "timestamp": 1569398179655,
     "user": {
      "displayName": "katy chou",
      "photoUrl": "",
      "userId": "16630733742086264732"
     },
     "user_tz": -480
    },
    "id": "lWEYg6B_SKu7",
    "outputId": "1a9d1cfb-318d-43d8-9f9f-f18303720004"
   },
   "outputs": [
    {
     "name": "stdout",
     "output_type": "stream",
     "text": [
      "Model: \"sequential_9\"\n",
      "_________________________________________________________________\n",
      "Layer (type)                 Output Shape              Param #   \n",
      "=================================================================\n",
      "conv2d_11 (Conv2D)           (None, 32, 32, 32)        896       \n",
      "_________________________________________________________________\n",
      "dropout_21 (Dropout)         (None, 32, 32, 32)        0         \n",
      "_________________________________________________________________\n",
      "max_pooling2d_11 (MaxPooling (None, 16, 16, 32)        0         \n",
      "_________________________________________________________________\n",
      "conv2d_12 (Conv2D)           (None, 16, 16, 64)        18496     \n",
      "_________________________________________________________________\n",
      "dropout_22 (Dropout)         (None, 16, 16, 64)        0         \n",
      "_________________________________________________________________\n",
      "max_pooling2d_12 (MaxPooling (None, 8, 8, 64)          0         \n",
      "_________________________________________________________________\n",
      "flatten_6 (Flatten)          (None, 4096)              0         \n",
      "_________________________________________________________________\n",
      "dropout_23 (Dropout)         (None, 4096)              0         \n",
      "_________________________________________________________________\n",
      "dense_11 (Dense)             (None, 1024)              4195328   \n",
      "_________________________________________________________________\n",
      "dropout_24 (Dropout)         (None, 1024)              0         \n",
      "_________________________________________________________________\n",
      "dense_12 (Dense)             (None, 10)                10250     \n",
      "=================================================================\n",
      "Total params: 4,224,970\n",
      "Trainable params: 4,224,970\n",
      "Non-trainable params: 0\n",
      "_________________________________________________________________\n",
      "None\n"
     ]
    }
   ],
   "source": [
    "model6 = Sequential()\n",
    "model6.add(Conv2D(filters=32,kernel_size=(3,3),\n",
    "                 input_shape=(32, 32,3), \n",
    "                 activation='relu', \n",
    "                 padding='same'))\n",
    "model6.add(Dropout(rate=0.25))\n",
    "model6.add(MaxPooling2D(pool_size=(2, 2)))\n",
    "model6.add(Conv2D(filters=64, kernel_size=(3, 3), \n",
    "                 activation='relu', padding='same'))\n",
    "model6.add(Dropout(0.25))\n",
    "model6.add(MaxPooling2D(pool_size=(2, 2)))\n",
    "model6.add(Flatten())\n",
    "model6.add(Dropout(rate=0.25))\n",
    "model6.add(Dense(1024, activation='relu'))\n",
    "model6.add(Dropout(rate=0.25))\n",
    "model6.add(Dense(10, activation='softmax'))\n",
    "#檢查model 的STACK\n",
    "print(model6.summary())"
   ]
  },
  {
   "cell_type": "markdown",
   "metadata": {
    "colab_type": "text",
    "id": "QJCtpJM0iUtJ"
   },
   "source": [
    "# 載入之前訓練的模型"
   ]
  },
  {
   "cell_type": "code",
   "execution_count": 16,
   "metadata": {
    "colab": {
     "base_uri": "https://localhost:8080/",
     "height": 34
    },
    "colab_type": "code",
    "executionInfo": {
     "elapsed": 1269,
     "status": "ok",
     "timestamp": 1569398180195,
     "user": {
      "displayName": "katy chou",
      "photoUrl": "",
      "userId": "16630733742086264732"
     },
     "user_tz": -480
    },
    "id": "JU3A6NzQiUtK",
    "outputId": "e2d69e50-09d4-4f7a-aa85-82a5458e7c6c"
   },
   "outputs": [
    {
     "name": "stdout",
     "output_type": "stream",
     "text": [
      "載入模型失敗!開始訓練一個新模型\n"
     ]
    }
   ],
   "source": [
    "try:\n",
    "    model.load_weights(\"SaveModel/cifarCnnModel.h5\")\n",
    "    print(\"載入模型成功!繼續訓練模型\")\n",
    "except :\n",
    "    print(\"載入模型失敗!開始訓練一個新模型\")"
   ]
  },
  {
   "cell_type": "markdown",
   "metadata": {
    "colab_type": "text",
    "id": "qBbCuziziUtM"
   },
   "source": [
    "# 訓練模型"
   ]
  },
  {
   "cell_type": "code",
   "execution_count": 0,
   "metadata": {
    "colab": {},
    "colab_type": "code",
    "id": "5zwT3ySRIMtU"
   },
   "outputs": [],
   "source": []
  },
  {
   "cell_type": "code",
   "execution_count": 17,
   "metadata": {
    "colab": {
     "base_uri": "https://localhost:8080/",
     "height": 819
    },
    "colab_type": "code",
    "executionInfo": {
     "elapsed": 91439,
     "status": "ok",
     "timestamp": 1569398271347,
     "user": {
      "displayName": "katy chou",
      "photoUrl": "",
      "userId": "16630733742086264732"
     },
     "user_tz": -480
    },
    "id": "Q6BiBcseiUtP",
    "outputId": "1f70a21d-af6b-4583-8f7e-48d35def51b6"
   },
   "outputs": [
    {
     "name": "stdout",
     "output_type": "stream",
     "text": [
      "WARNING:tensorflow:From /usr/local/lib/python3.6/dist-packages/keras/optimizers.py:793: The name tf.train.Optimizer is deprecated. Please use tf.compat.v1.train.Optimizer instead.\n",
      "\n",
      "WARNING:tensorflow:From /usr/local/lib/python3.6/dist-packages/keras/backend/tensorflow_backend.py:3576: The name tf.log is deprecated. Please use tf.math.log instead.\n",
      "\n",
      "WARNING:tensorflow:From /usr/local/lib/python3.6/dist-packages/tensorflow/python/ops/math_grad.py:1250: add_dispatch_support.<locals>.wrapper (from tensorflow.python.ops.array_ops) is deprecated and will be removed in a future version.\n",
      "Instructions for updating:\n",
      "Use tf.where in 2.0, which has the same broadcast rule as np.where\n",
      "Train on 37500 samples, validate on 12500 samples\n",
      "Epoch 1/11\n",
      "37500/37500 [==============================] - 10s 269us/step - loss: 1.5371 - acc: 0.4468 - val_loss: 1.3406 - val_acc: 0.5699\n",
      "Epoch 2/11\n",
      "37500/37500 [==============================] - 8s 210us/step - loss: 1.1558 - acc: 0.5861 - val_loss: 1.1302 - val_acc: 0.6235\n",
      "Epoch 3/11\n",
      "37500/37500 [==============================] - 8s 211us/step - loss: 1.0210 - acc: 0.6395 - val_loss: 1.0227 - val_acc: 0.6799\n",
      "Epoch 4/11\n",
      "37500/37500 [==============================] - 8s 211us/step - loss: 0.9138 - acc: 0.6781 - val_loss: 0.9787 - val_acc: 0.6844\n",
      "Epoch 5/11\n",
      "37500/37500 [==============================] - 8s 211us/step - loss: 0.8202 - acc: 0.7110 - val_loss: 0.9105 - val_acc: 0.7045\n",
      "Epoch 6/11\n",
      "37500/37500 [==============================] - 8s 216us/step - loss: 0.7379 - acc: 0.7407 - val_loss: 0.8707 - val_acc: 0.7087\n",
      "Epoch 7/11\n",
      "37500/37500 [==============================] - 8s 212us/step - loss: 0.6614 - acc: 0.7682 - val_loss: 0.8362 - val_acc: 0.7217\n",
      "Epoch 8/11\n",
      "37500/37500 [==============================] - 8s 211us/step - loss: 0.5978 - acc: 0.7894 - val_loss: 0.8022 - val_acc: 0.7251\n",
      "Epoch 9/11\n",
      "37500/37500 [==============================] - 8s 212us/step - loss: 0.5241 - acc: 0.8160 - val_loss: 0.7896 - val_acc: 0.7284\n",
      "Epoch 10/11\n",
      "37500/37500 [==============================] - 8s 213us/step - loss: 0.4732 - acc: 0.8347 - val_loss: 0.7871 - val_acc: 0.7292\n",
      "Epoch 11/11\n",
      "37500/37500 [==============================] - 8s 211us/step - loss: 0.4146 - acc: 0.8545 - val_loss: 0.7587 - val_acc: 0.7402\n"
     ]
    },
    {
     "data": {
      "image/png": "[encoded data removed]",
      "text/plain": [
       "<Figure size 432x288 with 1 Axes>"
      ]
     },
     "metadata": {
      "tags": []
     },
     "output_type": "display_data"
    }
   ],
   "source": [
    "#loss_func='categorical_crossentropy'\n",
    "model1.compile(loss='categorical_crossentropy', optimizer='Adam', metrics=['accuracy'])\n",
    "#model.compile(loss='categorical_crossentropy', optimizer='sgd', metrics=['accuracy'])\n",
    "\n",
    "train_history1=model1.fit(x_img_train_normalize, y_label_train_OneHot,\n",
    "                        validation_split=0.25,\n",
    "                        epochs=11, batch_size=128, verbose=1)  \n",
    "\n",
    "import matplotlib.pyplot as plt\n",
    "%matplotlib inline\n",
    "\n",
    "#定義一個繪圖函數\n",
    "def show_train_history(train_acc,test_acc):\n",
    "    plt.plot(train_history1.history[train_acc])\n",
    "    plt.plot(train_history1.history[test_acc])\n",
    "    plt.title('Train History')\n",
    "    plt.ylabel('Accuracy')\n",
    "    plt.xlabel('Epoch')\n",
    "    plt.legend(['train_acc', 'val_acc'], loc='upper left')\n",
    "    plt.show()\n",
    "\n",
    "show_train_history('acc','val_acc')"
   ]
  },
  {
   "cell_type": "code",
   "execution_count": 0,
   "metadata": {
    "colab": {},
    "colab_type": "code",
    "id": "7PI4B2_VaF1N"
   },
   "outputs": [],
   "source": []
  },
  {
   "cell_type": "code",
   "execution_count": 18,
   "metadata": {
    "colab": {
     "base_uri": "https://localhost:8080/",
     "height": 34
    },
    "colab_type": "code",
    "executionInfo": {
     "elapsed": 84303,
     "status": "ok",
     "timestamp": 1569398271351,
     "user": {
      "displayName": "katy chou",
      "photoUrl": "",
      "userId": "16630733742086264732"
     },
     "user_tz": -480
    },
    "id": "1NdboB1TIjBr",
    "outputId": "a443945e-8d56-495d-e484-3d8eb8f71fb1"
   },
   "outputs": [
    {
     "data": {
      "text/plain": [
       "'\\n作業:\\n請分別選用 \"MSE\", \"binary _crossentropy\"\\n查看Train/test accurancy and loss rate\\n'"
      ]
     },
     "execution_count": 18,
     "metadata": {
      "tags": []
     },
     "output_type": "execute_result"
    }
   ],
   "source": [
    "'''\n",
    "作業:\n",
    "請分別選用 \"MSE\", \"binary _crossentropy\"\n",
    "查看Train/test accurancy and loss rate\n",
    "'''"
   ]
  },
  {
   "cell_type": "code",
   "execution_count": 19,
   "metadata": {
    "colab": {
     "base_uri": "https://localhost:8080/",
     "height": 682
    },
    "colab_type": "code",
    "executionInfo": {
     "elapsed": 158460,
     "status": "ok",
     "timestamp": 1569398346750,
     "user": {
      "displayName": "katy chou",
      "photoUrl": "",
      "userId": "16630733742086264732"
     },
     "user_tz": -480
    },
    "id": "m2GjoSZ4IjEw",
    "outputId": "dce366d8-b765-47d0-cf7c-40572ce866a6"
   },
   "outputs": [
    {
     "name": "stdout",
     "output_type": "stream",
     "text": [
      "Train on 37500 samples, validate on 12500 samples\n",
      "Epoch 1/11\n",
      "37500/37500 [==============================] - 7s 194us/step - loss: 0.0909 - acc: 0.1001 - val_loss: 0.0899 - val_acc: 0.1251\n",
      "Epoch 2/11\n",
      "37500/37500 [==============================] - 7s 179us/step - loss: 0.0904 - acc: 0.1087 - val_loss: 0.0897 - val_acc: 0.1401\n",
      "Epoch 3/11\n",
      "37500/37500 [==============================] - 7s 182us/step - loss: 0.0900 - acc: 0.1186 - val_loss: 0.0896 - val_acc: 0.1521\n",
      "Epoch 4/11\n",
      "37500/37500 [==============================] - 7s 181us/step - loss: 0.0899 - acc: 0.1232 - val_loss: 0.0895 - val_acc: 0.1632\n",
      "Epoch 5/11\n",
      "37500/37500 [==============================] - 7s 179us/step - loss: 0.0897 - acc: 0.1277 - val_loss: 0.0894 - val_acc: 0.1705\n",
      "Epoch 6/11\n",
      "37500/37500 [==============================] - 7s 178us/step - loss: 0.0895 - acc: 0.1361 - val_loss: 0.0893 - val_acc: 0.1837\n",
      "Epoch 7/11\n",
      "37500/37500 [==============================] - 7s 178us/step - loss: 0.0893 - acc: 0.1430 - val_loss: 0.0892 - val_acc: 0.1924\n",
      "Epoch 8/11\n",
      "37500/37500 [==============================] - 7s 179us/step - loss: 0.0892 - acc: 0.1494 - val_loss: 0.0891 - val_acc: 0.1974\n",
      "Epoch 9/11\n",
      "37500/37500 [==============================] - 7s 180us/step - loss: 0.0890 - acc: 0.1538 - val_loss: 0.0890 - val_acc: 0.2068\n",
      "Epoch 10/11\n",
      "37500/37500 [==============================] - 7s 179us/step - loss: 0.0889 - acc: 0.1613 - val_loss: 0.0889 - val_acc: 0.2134\n",
      "Epoch 11/11\n",
      "37500/37500 [==============================] - 7s 179us/step - loss: 0.0887 - acc: 0.1657 - val_loss: 0.0888 - val_acc: 0.2168\n"
     ]
    },
    {
     "data": {
      "image/png": "[encoded data removed]",
      "text/plain": [
       "<Figure size 432x288 with 1 Axes>"
      ]
     },
     "metadata": {
      "tags": []
     },
     "output_type": "display_data"
    }
   ],
   "source": [
    "#loss_func='mean_squared_error'\n",
    "model2.compile(loss='mean_squared_error', optimizer='sgd', metrics=['accuracy'])\n",
    "\n",
    "train_history2=model2.fit(x_img_train_normalize, y_label_train_OneHot,\n",
    "                        validation_split=0.25,\n",
    "                        epochs=11, batch_size=128, verbose=1) \n",
    "def show_train_history(train_acc,test_acc):\n",
    "    plt.plot(train_history2.history[train_acc])\n",
    "    plt.plot(train_history2.history[test_acc])\n",
    "    plt.title('Train History')\n",
    "    plt.ylabel('Accuracy')\n",
    "    plt.xlabel('Epoch')\n",
    "    plt.legend(['train_acc', 'val_acc'], loc='upper left')\n",
    "    plt.show()\n",
    "\n",
    "show_train_history('acc','val_acc')"
   ]
  },
  {
   "cell_type": "code",
   "execution_count": 20,
   "metadata": {
    "colab": {
     "base_uri": "https://localhost:8080/",
     "height": 682
    },
    "colab_type": "code",
    "executionInfo": {
     "elapsed": 246061,
     "status": "ok",
     "timestamp": 1569398435028,
     "user": {
      "displayName": "katy chou",
      "photoUrl": "",
      "userId": "16630733742086264732"
     },
     "user_tz": -480
    },
    "id": "IuB3G9YjUNCd",
    "outputId": "b073e32f-343d-4c0f-c9e7-51b4dad7fdf7"
   },
   "outputs": [
    {
     "name": "stdout",
     "output_type": "stream",
     "text": [
      "Train on 37500 samples, validate on 12500 samples\n",
      "Epoch 1/11\n",
      "37500/37500 [==============================] - 9s 227us/step - loss: 0.0715 - acc: 0.4115 - val_loss: 0.0653 - val_acc: 0.5114\n",
      "Epoch 2/11\n",
      "37500/37500 [==============================] - 8s 206us/step - loss: 0.0572 - acc: 0.5618 - val_loss: 0.0565 - val_acc: 0.6065\n",
      "Epoch 3/11\n",
      "37500/37500 [==============================] - 8s 210us/step - loss: 0.0508 - acc: 0.6173 - val_loss: 0.0505 - val_acc: 0.6508\n",
      "Epoch 4/11\n",
      "37500/37500 [==============================] - 8s 208us/step - loss: 0.0467 - acc: 0.6553 - val_loss: 0.0484 - val_acc: 0.6607\n",
      "Epoch 5/11\n",
      "37500/37500 [==============================] - 8s 212us/step - loss: 0.0425 - acc: 0.6902 - val_loss: 0.0454 - val_acc: 0.6789\n",
      "Epoch 6/11\n",
      "37500/37500 [==============================] - 8s 209us/step - loss: 0.0387 - acc: 0.7199 - val_loss: 0.0441 - val_acc: 0.6817\n",
      "Epoch 7/11\n",
      "37500/37500 [==============================] - 8s 210us/step - loss: 0.0355 - acc: 0.7466 - val_loss: 0.0417 - val_acc: 0.7063\n",
      "Epoch 8/11\n",
      "37500/37500 [==============================] - 8s 208us/step - loss: 0.0327 - acc: 0.7690 - val_loss: 0.0401 - val_acc: 0.7119\n",
      "Epoch 9/11\n",
      "37500/37500 [==============================] - 8s 211us/step - loss: 0.0298 - acc: 0.7926 - val_loss: 0.0391 - val_acc: 0.7184\n",
      "Epoch 10/11\n",
      "37500/37500 [==============================] - 8s 209us/step - loss: 0.0273 - acc: 0.8108 - val_loss: 0.0400 - val_acc: 0.7089\n",
      "Epoch 11/11\n",
      "37500/37500 [==============================] - 8s 211us/step - loss: 0.0249 - acc: 0.8293 - val_loss: 0.0377 - val_acc: 0.7263\n"
     ]
    },
    {
     "data": {
      "image/png": "[encoded data removed]",
      "text/plain": [
       "<Figure size 432x288 with 1 Axes>"
      ]
     },
     "metadata": {
      "tags": []
     },
     "output_type": "display_data"
    }
   ],
   "source": [
    "#loss_func='mean_squared_error'\n",
    "model5.compile(loss='mean_squared_error', optimizer='Adam', metrics=['accuracy'])\n",
    "\n",
    "train_history5=model5.fit(x_img_train_normalize, y_label_train_OneHot,\n",
    "                        validation_split=0.25,\n",
    "                        epochs=11, batch_size=128, verbose=1)\n",
    "def show_train_history(train_acc,test_acc):\n",
    "    plt.plot(train_history5.history[train_acc])\n",
    "    plt.plot(train_history5.history[test_acc])\n",
    "    plt.title('Train History')\n",
    "    plt.ylabel('Accuracy')\n",
    "    plt.xlabel('Epoch')\n",
    "    plt.legend(['train_acc', 'val_acc'], loc='upper left')\n",
    "    plt.show()\n",
    "\n",
    "show_train_history('acc','val_acc')"
   ]
  },
  {
   "cell_type": "code",
   "execution_count": 21,
   "metadata": {
    "colab": {
     "base_uri": "https://localhost:8080/",
     "height": 682
    },
    "colab_type": "code",
    "executionInfo": {
     "elapsed": 321824,
     "status": "ok",
     "timestamp": 1569398511006,
     "user": {
      "displayName": "katy chou",
      "photoUrl": "",
      "userId": "16630733742086264732"
     },
     "user_tz": -480
    },
    "id": "4-GdDgmQiUtS",
    "outputId": "eccc6006-538c-4da0-e901-da779b0951a8"
   },
   "outputs": [
    {
     "name": "stdout",
     "output_type": "stream",
     "text": [
      "Train on 37500 samples, validate on 12500 samples\n",
      "Epoch 1/11\n",
      "37500/37500 [==============================] - 7s 198us/step - loss: 0.3250 - acc: 0.9000 - val_loss: 0.3227 - val_acc: 0.9000\n",
      "Epoch 2/11\n",
      "37500/37500 [==============================] - 7s 180us/step - loss: 0.3215 - acc: 0.9000 - val_loss: 0.3207 - val_acc: 0.9000\n",
      "Epoch 3/11\n",
      "37500/37500 [==============================] - 7s 180us/step - loss: 0.3183 - acc: 0.9000 - val_loss: 0.3181 - val_acc: 0.9000\n",
      "Epoch 4/11\n",
      "37500/37500 [==============================] - 7s 179us/step - loss: 0.3139 - acc: 0.9000 - val_loss: 0.3143 - val_acc: 0.9000\n",
      "Epoch 5/11\n",
      "37500/37500 [==============================] - 7s 181us/step - loss: 0.3083 - acc: 0.9000 - val_loss: 0.3096 - val_acc: 0.9000\n",
      "Epoch 6/11\n",
      "37500/37500 [==============================] - 7s 181us/step - loss: 0.3025 - acc: 0.9000 - val_loss: 0.3044 - val_acc: 0.9000\n",
      "Epoch 7/11\n",
      "37500/37500 [==============================] - 7s 181us/step - loss: 0.2973 - acc: 0.9002 - val_loss: 0.3004 - val_acc: 0.9000\n",
      "Epoch 8/11\n",
      "37500/37500 [==============================] - 7s 181us/step - loss: 0.2942 - acc: 0.9003 - val_loss: 0.2975 - val_acc: 0.9000\n",
      "Epoch 9/11\n",
      "37500/37500 [==============================] - 7s 181us/step - loss: 0.2913 - acc: 0.9005 - val_loss: 0.2954 - val_acc: 0.9000\n",
      "Epoch 10/11\n",
      "37500/37500 [==============================] - 7s 181us/step - loss: 0.2895 - acc: 0.9006 - val_loss: 0.2934 - val_acc: 0.9000\n",
      "Epoch 11/11\n",
      "37500/37500 [==============================] - 7s 180us/step - loss: 0.2876 - acc: 0.9008 - val_loss: 0.2913 - val_acc: 0.9001\n"
     ]
    },
    {
     "data": {
      "image/png": "[encoded data removed]",
      "text/plain": [
       "<Figure size 432x288 with 1 Axes>"
      ]
     },
     "metadata": {
      "tags": []
     },
     "output_type": "display_data"
    }
   ],
   "source": [
    "#loss_func='binary _crossentropy'\n",
    "model3.compile(loss='binary_crossentropy', optimizer='sgd', metrics=['accuracy'])\n",
    "\n",
    "train_history3=model3.fit(x_img_train_normalize, y_label_train_OneHot,\n",
    "                        validation_split=0.25,\n",
    "                        epochs=11, batch_size=128, verbose=1) \n",
    "def show_train_history(train_acc,test_acc):\n",
    "    plt.plot(train_history3.history[train_acc])\n",
    "    plt.plot(train_history3.history[test_acc])\n",
    "    plt.title('Train History')\n",
    "    plt.ylabel('Accuracy')\n",
    "    plt.xlabel('Epoch')\n",
    "    plt.legend(['train_acc', 'val_acc'], loc='upper left')\n",
    "    plt.show()\n",
    "\n",
    "show_train_history('acc','val_acc')"
   ]
  },
  {
   "cell_type": "code",
   "execution_count": 22,
   "metadata": {
    "colab": {
     "base_uri": "https://localhost:8080/",
     "height": 682
    },
    "colab_type": "code",
    "executionInfo": {
     "elapsed": 410458,
     "status": "ok",
     "timestamp": 1569398599884,
     "user": {
      "displayName": "katy chou",
      "photoUrl": "",
      "userId": "16630733742086264732"
     },
     "user_tz": -480
    },
    "id": "xCyRdYNqKBey",
    "outputId": "5a800e6e-6518-4971-da29-c508993d2c1a"
   },
   "outputs": [
    {
     "name": "stdout",
     "output_type": "stream",
     "text": [
      "Train on 37500 samples, validate on 12500 samples\n",
      "Epoch 1/11\n",
      "37500/37500 [==============================] - 9s 233us/step - loss: 0.2317 - acc: 0.9124 - val_loss: 0.2167 - val_acc: 0.9148\n",
      "Epoch 2/11\n",
      "37500/37500 [==============================] - 8s 211us/step - loss: 0.1817 - acc: 0.9284 - val_loss: 0.1829 - val_acc: 0.9275\n",
      "Epoch 3/11\n",
      "37500/37500 [==============================] - 8s 214us/step - loss: 0.1608 - acc: 0.9366 - val_loss: 0.1645 - val_acc: 0.9359\n",
      "Epoch 4/11\n",
      "37500/37500 [==============================] - 8s 211us/step - loss: 0.1449 - acc: 0.9434 - val_loss: 0.1530 - val_acc: 0.9406\n",
      "Epoch 5/11\n",
      "37500/37500 [==============================] - 8s 211us/step - loss: 0.1316 - acc: 0.9484 - val_loss: 0.1421 - val_acc: 0.9445\n",
      "Epoch 6/11\n",
      "37500/37500 [==============================] - 8s 209us/step - loss: 0.1206 - acc: 0.9524 - val_loss: 0.1386 - val_acc: 0.9469\n",
      "Epoch 7/11\n",
      "37500/37500 [==============================] - 8s 211us/step - loss: 0.1102 - acc: 0.9568 - val_loss: 0.1346 - val_acc: 0.9478\n",
      "Epoch 8/11\n",
      "37500/37500 [==============================] - 8s 211us/step - loss: 0.0976 - acc: 0.9622 - val_loss: 0.1295 - val_acc: 0.9500\n",
      "Epoch 9/11\n",
      "37500/37500 [==============================] - 8s 209us/step - loss: 0.0878 - acc: 0.9660 - val_loss: 0.1258 - val_acc: 0.9512\n",
      "Epoch 10/11\n",
      "37500/37500 [==============================] - 8s 210us/step - loss: 0.0781 - acc: 0.9704 - val_loss: 0.1246 - val_acc: 0.9517\n",
      "Epoch 11/11\n",
      "37500/37500 [==============================] - 8s 213us/step - loss: 0.0707 - acc: 0.9727 - val_loss: 0.1222 - val_acc: 0.9527\n"
     ]
    },
    {
     "data": {
      "image/png": "[encoded data removed]",
      "text/plain": [
       "<Figure size 432x288 with 1 Axes>"
      ]
     },
     "metadata": {
      "tags": []
     },
     "output_type": "display_data"
    }
   ],
   "source": [
    "#loss_func='binary _crossentropy'\n",
    "model4.compile(loss='binary_crossentropy', optimizer='Adam', metrics=['accuracy'])\n",
    "\n",
    "train_history4=model4.fit(x_img_train_normalize, y_label_train_OneHot,\n",
    "                        validation_split=0.25,\n",
    "                        epochs=11, batch_size=128, verbose=1)     \n",
    "def show_train_history(train_acc,test_acc):\n",
    "    plt.plot(train_history4.history[train_acc])\n",
    "    plt.plot(train_history4.history[test_acc])\n",
    "    plt.title('Train History')\n",
    "    plt.ylabel('Accuracy')\n",
    "    plt.xlabel('Epoch')\n",
    "    plt.legend(['train_acc', 'val_acc'], loc='upper left')\n",
    "    plt.show()\n",
    "show_train_history('acc','val_acc')"
   ]
  },
  {
   "cell_type": "code",
   "execution_count": 0,
   "metadata": {
    "colab": {},
    "colab_type": "code",
    "id": "IZQM07sgfWks"
   },
   "outputs": [],
   "source": []
  },
  {
   "cell_type": "code",
   "execution_count": 23,
   "metadata": {
    "colab": {
     "base_uri": "https://localhost:8080/",
     "height": 682
    },
    "colab_type": "code",
    "executionInfo": {
     "elapsed": 89460,
     "status": "ok",
     "timestamp": 1569399435848,
     "user": {
      "displayName": "katy chou",
      "photoUrl": "",
      "userId": "16630733742086264732"
     },
     "user_tz": -480
    },
    "id": "yM7IRFu8fWoG",
    "outputId": "6db9f1d7-5c32-43df-bc52-a30620643e72"
   },
   "outputs": [
    {
     "name": "stdout",
     "output_type": "stream",
     "text": [
      "Train on 37500 samples, validate on 12500 samples\n",
      "Epoch 1/11\n",
      "37500/37500 [==============================] - 9s 237us/step - loss: 0.3745 - acc: 0.8695 - val_loss: 0.7715 - val_acc: 0.7373\n",
      "Epoch 2/11\n",
      "37500/37500 [==============================] - 8s 211us/step - loss: 0.3200 - acc: 0.8881 - val_loss: 0.7602 - val_acc: 0.7433\n",
      "Epoch 3/11\n",
      "37500/37500 [==============================] - 8s 208us/step - loss: 0.2896 - acc: 0.8997 - val_loss: 0.7690 - val_acc: 0.7430\n",
      "Epoch 4/11\n",
      "37500/37500 [==============================] - 8s 209us/step - loss: 0.2574 - acc: 0.9110 - val_loss: 0.7819 - val_acc: 0.7424\n",
      "Epoch 5/11\n",
      "37500/37500 [==============================] - 8s 210us/step - loss: 0.2341 - acc: 0.9200 - val_loss: 0.7815 - val_acc: 0.7406\n",
      "Epoch 6/11\n",
      "37500/37500 [==============================] - 8s 210us/step - loss: 0.2179 - acc: 0.9246 - val_loss: 0.8236 - val_acc: 0.7338\n",
      "Epoch 7/11\n",
      "37500/37500 [==============================] - 8s 211us/step - loss: 0.2008 - acc: 0.9298 - val_loss: 0.8028 - val_acc: 0.7426\n",
      "Epoch 8/11\n",
      "37500/37500 [==============================] - 8s 210us/step - loss: 0.1831 - acc: 0.9381 - val_loss: 0.8372 - val_acc: 0.7396\n",
      "Epoch 9/11\n",
      "37500/37500 [==============================] - 8s 209us/step - loss: 0.1723 - acc: 0.9397 - val_loss: 0.8227 - val_acc: 0.7416\n",
      "Epoch 10/11\n",
      "37500/37500 [==============================] - 8s 208us/step - loss: 0.1628 - acc: 0.9440 - val_loss: 0.8007 - val_acc: 0.7502\n",
      "Epoch 11/11\n",
      "37500/37500 [==============================] - 8s 208us/step - loss: 0.1562 - acc: 0.9461 - val_loss: 0.8286 - val_acc: 0.7404\n"
     ]
    },
    {
     "data": {
      "image/png": "[encoded data removed]",
      "text/plain": [
       "<Figure size 432x288 with 1 Axes>"
      ]
     },
     "metadata": {
      "tags": []
     },
     "output_type": "display_data"
    }
   ],
   "source": [
    "#loss_func='categorical_crossentropy'\n",
    "model1.compile(loss='categorical_crossentropy', optimizer='Adam', metrics=['accuracy'])\n",
    "#model.compile(loss='categorical_crossentropy', optimizer='sgd', metrics=['accuracy'])\n",
    "\n",
    "train_history1=model1.fit(x_img_train_normalize, y_label_train_OneHot,\n",
    "                        validation_split=0.25,\n",
    "                        epochs=11, batch_size=128, verbose=1)  \n",
    "import matplotlib.pyplot as plt\n",
    "%matplotlib inline\n",
    "\n",
    "#定義一個繪圖函數\n",
    "def show_train_history(train_acc,test_acc):\n",
    "    plt.plot(train_history1.history[train_acc])\n",
    "    plt.plot(train_history1.history[test_acc])\n",
    "    plt.title('Train History')\n",
    "    plt.ylabel('Accuracy')\n",
    "    plt.xlabel('Epoch')\n",
    "    plt.legend(['train_acc', 'val_acc'], loc='upper left')\n",
    "    plt.show()\n",
    "\n",
    "show_train_history('acc','val_acc')"
   ]
  },
  {
   "cell_type": "code",
   "execution_count": 0,
   "metadata": {
    "colab": {},
    "colab_type": "code",
    "id": "JVlnw6UUfWt1"
   },
   "outputs": [],
   "source": []
  },
  {
   "cell_type": "code",
   "execution_count": 0,
   "metadata": {
    "colab": {},
    "colab_type": "code",
    "id": "Qssj4X7bKMO2"
   },
   "outputs": [],
   "source": [
    "多分類問題,loss function適用categorical_crossentropy\n",
    "二元分類問題,loss function適用binary_crossentropy\n",
    "回歸問題,loss function適用mean_squared_error\n"
   ]
  },
  {
   "cell_type": "code",
   "execution_count": 0,
   "metadata": {
    "colab": {},
    "colab_type": "code",
    "id": "dTcGDElchczJ"
   },
   "outputs": [],
   "source": [
    "在此題DataSet:cifar10應屬多分類問題,\n",
    "我在train多個不同的loss func&optimizer,若找開始overfit的acc結果如下,\n",
    "請教為acc最高的是binary_crossentropy,卻不是categorical_crossentropy？？\n",
    "'''\n",
    "model1.compile(loss='categorical_crossentropy', optimizer='Adam', metrics=['accuracy']) acc約: 0.6781\n",
    "model2.compile(loss='mean_squared_error', optimizer='sgd', metrics=['accuracy']) X\n",
    "model5.compile(loss='mean_squared_error', optimizer='Adam', metrics=['accuracy']) acc約: 0.6173\n",
    "model3.compile(loss='binary_crossentropy', optimizer='sgd', metrics=['accuracy']) acc約: 0.9000\n",
    "model4.compile(loss='binary_crossentropy', optimizer='Adam', metrics=['accuracy']) val_acc約: 0.9275\n",
    "'''"
   ]
  }
 ],
 "metadata": {
  "accelerator": "GPU",
  "colab": {
   "collapsed_sections": [],
   "name": "Day71-使用損失函數_HW.ipynb",
   "provenance": []
  },
  "kernelspec": {
   "display_name": "Python 3",
   "language": "python",
   "name": "python3"
  },
  "language_info": {
   "codemirror_mode": {
    "name": "ipython",
    "version": 3
   },
   "file_extension": ".py",
   "mimetype": "text/x-python",
   "name": "python",
   "nbconvert_exporter": "python",
   "pygments_lexer": "ipython3",
   "version": "3.6.8"
  }
 },
 "nbformat": 4,
 "nbformat_minor": 1
}
