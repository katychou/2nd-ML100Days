{
 "cells": [
  {
   "cell_type": "markdown",
   "metadata": {},
   "source": [
    "# 作業\n",
    "* 試著想想看, 非監督學習是否有可能使用評價函數 (Metric) 來鑑別好壞呢?  \n",
    "(Hint : 可以分為 \"有目標值\" 與 \"無目標值\" 兩個方向思考)"
   ]
  },
  {
   "cell_type": "markdown",
   "metadata": {
    "collapsed": true
   },
   "source": [
    "有目標:data有被label過,分類/迴歸..,新DATA沒看過的特徵無法學習,\n",
    "無目標:data不用先label過,降維/分類/分群/生成(GAN)..等分式,\n",
    "\n",
    "ex:KNN\n",
    "評估方式類型\n",
    "1.有目標值的分群:如果資料有目標值，只是先忽略目標值做非監督學習，則只要微調後，就可以使用原本監督的測量函數評估準確性。\n",
    "2.無目標值的分群:但通常沒有目標值或目標值非常少才會使用非監督模型，這種情況下，只能使用資料本身的分佈資訊，來做模型的評估。\n",
    "#ref:https://medium.com/uxai/%E6%A9%9F%E5%99%A8%E5%AD%B8%E7%BF%92%E9%A6%AC%E6%8B%89%E6%9D%BE-056-k-means-%E8%A7%80%E5%AF%9F-%E4%BD%BF%E7%94%A8%E8%BC%AA%E5%BB%93%E5%88%86%E6%9E%90-7848044ee885\n"
   ]
  },
  {
   "cell_type": "code",
   "execution_count": null,
   "metadata": {},
   "outputs": [],
   "source": []
  }
 ],
 "metadata": {
  "kernelspec": {
   "display_name": "Python 3",
   "language": "python",
   "name": "python3"
  },
  "language_info": {
   "codemirror_mode": {
    "name": "ipython",
    "version": 3
   },
   "file_extension": ".py",
   "mimetype": "text/x-python",
   "name": "python",
   "nbconvert_exporter": "python",
   "pygments_lexer": "ipython3",
   "version": "3.6.8"
  }
 },
 "nbformat": 4,
 "nbformat_minor": 1
}
